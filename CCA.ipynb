{
  "nbformat": 4,
  "nbformat_minor": 0,
  "metadata": {
    "colab": {
      "name": "minmax.ipynb",
      "provenance": [],
      "collapsed_sections": []
    },
    "kernelspec": {
      "name": "python3",
      "display_name": "Python 3"
    }
  },
  "cells": [
    {
      "cell_type": "code",
      "metadata": {
        "id": "9k_fuEYO2cfs",
        "colab_type": "code",
        "colab": {
          "base_uri": "https://localhost:8080/",
          "height": 34
        },
        "outputId": "87ac059b-bec9-41d5-ef50-3dfd4bd9d513"
      },
      "source": [
        "from google.colab import drive\n",
        "drive.mount('/content/gdrive')"
      ],
      "execution_count": null,
      "outputs": [
        {
          "output_type": "stream",
          "text": [
            "Drive already mounted at /content/gdrive; to attempt to forcibly remount, call drive.mount(\"/content/gdrive\", force_remount=True).\n"
          ],
          "name": "stdout"
        }
      ]
    },
    {
      "cell_type": "code",
      "metadata": {
        "id": "p2DYLhGQ2tzX",
        "colab_type": "code",
        "colab": {}
      },
      "source": [
        "import torch\n",
        "import scipy.linalg as linalg\n",
        "dimension = 8\n",
        "regularization = 1\n",
        "power = -1\n",
        "dims = []\n",
        "Ws = None\n",
        "D = None\n",
        "def solve(features_list):      \n",
        "        for f in features_list:        \n",
        "          dims.append(f.size(1))          \n",
        "        S, S_D = computeCovMatrix(dims,features_list)\n",
        "        Weight_matrix=findMatrixAndEig(S, S_D)\n",
        "        return Weight_matrix\n",
        "def computeCovMatrix(dims,features_list):\n",
        "        \n",
        "        dims = torch.Tensor(dims)       \n",
        "        dim = torch.Tensor(dims).sum().int().item()      \n",
        "        S = torch.zeros((dim, dim))\n",
        "        S_D = torch.zeros((dim, dim))\n",
        "        indices = dims.cumsum(0)\n",
        "\n",
        "        indices = torch.cat([torch.Tensor([0]), indices]).int()\n",
        "        # print(indices)       \n",
        "        n_views = len(features_list)      \n",
        "        for i in range(n_views):       \n",
        "            for j in range(i):\n",
        "                # print(i,j)\n",
        "                S_ij = features_list[i].t() @ features_list[j]                      \n",
        "                S[indices[i]:indices[i+1], indices[j]:indices[j+1]] = S_ij                                        \n",
        "            S_ii = features_list[i].t() @ features_list[i]                        \n",
        "            S_D[indices[i]:indices[i+1], indices[i]:indices[i+1]] = S_ii\n",
        "        S = S + S.t() + S_D\n",
        "       \n",
        "        return S, S_D\n",
        "\n",
        "def findMatrixAndEig( S, S_D):\n",
        "        # print(S.size())\n",
        "        # print(S_D.size())\n",
        "        # REGULARIZE\n",
        "        I_g = regularization * torch.eye(len(S))\n",
        "        \n",
        "        S_D = S_D + I_g\n",
        "        # FIND EIGENVECTORS and GET THE INDICES OF THE D LARGEST EIGENVALUES\n",
        "        eigenValues, eigenVectors = linalg.eig(S.numpy(), S_D.numpy())\n",
        "        eigenValues, eigenVectors = torch.from_numpy(eigenValues.real), torch.from_numpy(eigenVectors.real)\n",
        "        \n",
        "        idx=eigenValues.argsort(descending=True)[:8].tolist()\n",
        "        \n",
        "        # BUILD W AND D\n",
        "        D = torch.diag(eigenValues[torch.tensor(idx)] ** power)\n",
        "        Ws = eigenVectors[:, torch.tensor(idx)].split(dims)\n",
        "        return Ws,D\n"
      ],
      "execution_count": null,
      "outputs": []
    },
    {
      "cell_type": "code",
      "metadata": {
        "id": "MeYEb6MY64Bk",
        "colab_type": "code",
        "colab": {}
      },
      "source": [
        "import pandas as pd\n",
        "import torch\n",
        "import math\n",
        "\n",
        "df=pd.read_csv('/content/gdrive/My Drive/shuffled_features.csv')\n",
        "df=df[:5600]\n",
        "df=df.drop('Unnamed: 0',1)\n",
        "df.drop(df.iloc[:, 768:], inplace = True,axis=1) \n",
        "df1=pd.read_csv('/content/gdrive/My Drive/shuffled_features.csv')\n",
        "df1=df1[:5600]\n",
        "df1=df1.drop('Unnamed: 0',1)\n",
        "df1.drop(df1.iloc[:, 0:768], inplace = True,axis=1) \n",
        "df1=df1.drop('class',1)\n",
        "X=list(df.values)#text\n",
        "Y=list(df1.values)#image\n",
        "x=torch.tensor(X)\n",
        "y=torch.tensor(Y)\n",
        "Wn,Dn=solve([y,x])\n"
      ],
      "execution_count": null,
      "outputs": []
    },
    {
      "cell_type": "code",
      "metadata": {
        "id": "uNLgs3D28yhT",
        "colab_type": "code",
        "colab": {}
      },
      "source": [
        "import torch\n",
        "import scipy.linalg as linalg\n",
        "dimension = 8\n",
        "regularization = 1\n",
        "power = -1\n",
        "dims = []\n",
        "Ws = None\n",
        "D = None\n",
        "def solve_meme(features_list):      \n",
        "        for f in features_list:        \n",
        "          dims.append(f.size(1))          \n",
        "        S, S_D = computeCovMatrix(dims,features_list)\n",
        "        Weight_matrix=findMatrixAndEig(S, S_D)\n",
        "        return Weight_matrix\n",
        "def computeCovMatrix(dims,features_list):\n",
        "        \n",
        "        dims = torch.Tensor(dims)       \n",
        "        dim = torch.Tensor(dims).sum().int().item()      \n",
        "        S = torch.zeros((dim, dim))\n",
        "        S_D = torch.zeros((dim, dim))\n",
        "        indices = dims.cumsum(0)\n",
        "\n",
        "        indices = torch.cat([torch.Tensor([0]), indices]).int()\n",
        "        # print(indices)       \n",
        "        n_views = len(features_list)      \n",
        "        for i in range(n_views):       \n",
        "            for j in range(i):\n",
        "                # print(i,j)\n",
        "                S_ij = features_list[i].t() @ features_list[j]                      \n",
        "                S[indices[i]:indices[i+1], indices[j]:indices[j+1]] = S_ij                                        \n",
        "            S_ii = features_list[i].t() @ features_list[i]                        \n",
        "            S_D[indices[i]:indices[i+1], indices[i]:indices[i+1]] = S_ii\n",
        "        S = S + S.t() + S_D\n",
        "       \n",
        "        return S, S_D\n",
        "\n",
        "def findMatrixAndEig( S, S_D):\n",
        "        # print(S.size())\n",
        "        # print(S_D.size())\n",
        "        # REGULARIZE\n",
        "        I_g = regularization * torch.eye(len(S))\n",
        "        \n",
        "        S_D = S_D + I_g\n",
        "        # FIND EIGENVECTORS and GET THE INDICES OF THE D LARGEST EIGENVALUES\n",
        "        eigenValues, eigenVectors = linalg.eig(S.numpy(), S_D.numpy())\n",
        "        eigenValues, eigenVectors = torch.from_numpy(eigenValues.real), torch.from_numpy(eigenVectors.real)\n",
        "        \n",
        "        idx=eigenValues.argsort()[:8].tolist()\n",
        "        \n",
        "        # BUILD W AND D\n",
        "        D = torch.diag(eigenValues[torch.tensor(idx)] ** power)\n",
        "        Ws = eigenVectors[:, torch.tensor(idx)].split(dims)\n",
        "        return Ws,D\n"
      ],
      "execution_count": null,
      "outputs": []
    },
    {
      "cell_type": "code",
      "metadata": {
        "id": "wa2O2LyG_fsi",
        "colab_type": "code",
        "colab": {}
      },
      "source": [
        "import pandas as pd\n",
        "import torch\n",
        "df3=pd.read_csv('/content/gdrive/My Drive/shuffled_features.csv')\n",
        "df3=df3[7000:12600]\n",
        "df3=df3.drop('Unnamed: 0',1)\n",
        "df3.drop(df3.iloc[:, 768:], inplace = True,axis=1) \n",
        "df4=pd.read_csv('/content/gdrive/My Drive/shuffled_features.csv')\n",
        "df4=df4[7000:12600]\n",
        "df4=df4.drop('Unnamed: 0',1)\n",
        "df4.drop(df4.iloc[:, 0:768], inplace = True,axis=1) \n",
        "df4=df4.drop('class',1)\n",
        "A=list(df3.values)#text\n",
        "B=list(df4.values)#image\n",
        "a=torch.tensor(A)\n",
        "b=torch.tensor(B)\n",
        "Wm,Dm=solve_meme([b,a])\n"
      ],
      "execution_count": null,
      "outputs": []
    },
    {
      "cell_type": "code",
      "metadata": {
        "id": "NWQhcf75ADWl",
        "colab_type": "code",
        "colab": {
          "base_uri": "https://localhost:8080/",
          "height": 301
        },
        "outputId": "10328ceb-fd98-4d2a-8658-2b3f2aa7aefb"
      },
      "source": [
        "w_image_nonmeme=Wn[0]\n",
        "w_text_nonmeme=Wn[1]\n",
        "print(w_text_nonmeme)\n",
        "print(w_image_nonmeme.size())\n",
        "w_image_meme=Wm[0]\n",
        "w_text_meme=Wm[1]\n",
        "print(w_text_meme.size())\n",
        "print(w_image_meme)"
      ],
      "execution_count": null,
      "outputs": [
        {
          "output_type": "stream",
          "text": [
            "tensor([[-0.0047,  0.0033,  0.0250,  ..., -0.0064, -0.0068,  0.0213],\n",
            "        [-0.0229,  0.0133,  0.0137,  ..., -0.0063, -0.0089, -0.0205],\n",
            "        [-0.0099, -0.0024,  0.0114,  ..., -0.0047,  0.0081, -0.0076],\n",
            "        ...,\n",
            "        [ 0.0150,  0.0217,  0.0044,  ..., -0.0074,  0.0178,  0.0026],\n",
            "        [-0.0496, -0.0086,  0.0067,  ..., -0.0317,  0.0154, -0.0258],\n",
            "        [-0.0386,  0.0163,  0.0161,  ...,  0.0204, -0.0042,  0.0039]])\n",
            "torch.Size([512, 8])\n",
            "torch.Size([768, 8])\n",
            "tensor([[-0.0043, -0.0052,  0.0281,  ..., -0.0408,  0.0006,  0.0182],\n",
            "        [ 0.0012, -0.0022,  0.0448,  ..., -0.0120,  0.0082,  0.0066],\n",
            "        [-0.0002,  0.0028,  0.0606,  ...,  0.0413, -0.0594, -0.0045],\n",
            "        ...,\n",
            "        [ 0.0004, -0.0063, -0.0285,  ...,  0.0208, -0.0102, -0.0195],\n",
            "        [-0.0024, -0.0032, -0.0081,  ..., -0.0762, -0.0204,  0.0283],\n",
            "        [ 0.0002,  0.0020,  0.0180,  ...,  0.0809, -0.0259, -0.0023]])\n"
          ],
          "name": "stdout"
        }
      ]
    },
    {
      "cell_type": "code",
      "metadata": {
        "id": "6OB0r_edBqH7",
        "colab_type": "code",
        "colab": {
          "base_uri": "https://localhost:8080/",
          "height": 34
        },
        "outputId": "2006b5b8-4fd2-44aa-d0cb-ed5e810a5c5e"
      },
      "source": [
        "#multiplication of non memes with weights\n",
        "import numpy as np\n",
        "a1=np.array(w_text_nonmeme.tolist())\n",
        "b1=np.array(X)\n",
        "c1=a1.T @ b1.T\n",
        "\n",
        "\n",
        "import numpy as np\n",
        "p1=np.array(w_image_nonmeme.tolist())\n",
        "q1=np.array(Y)\n",
        "r1=p1.T @ q1.T\n",
        "\n",
        "\n",
        "import numpy as np\n",
        "a2=np.array(w_text_meme.tolist())\n",
        "b2=np.array(X)\n",
        "c2=a2.T @ b2.T\n",
        "\n",
        "\n",
        "\n",
        "\n",
        "import numpy as np\n",
        "p2=np.array(w_image_meme.tolist())\n",
        "q2=np.array(Y)\n",
        "r2=p2.T @ q2.T\n",
        "\n",
        "train_non_image=[]\n",
        "train_non_test=[]\n",
        "for i in range(len(X)):\n",
        "  train_non_image.append(list(c1.T[i])+list(c2.T[i]))\n",
        "  train_non_test.append(list(r1.T[i])+list(r2.T[i]))\n",
        "  \n",
        "print(len(train_non_test[i]))"
      ],
      "execution_count": null,
      "outputs": [
        {
          "output_type": "stream",
          "text": [
            "16\n"
          ],
          "name": "stdout"
        }
      ]
    },
    {
      "cell_type": "code",
      "metadata": {
        "id": "RM2zXVumEWKN",
        "colab_type": "code",
        "colab": {}
      },
      "source": [
        "#multiplication of  memes with weights\n",
        "import numpy as np\n",
        "a3=np.array(w_text_nonmeme.tolist())\n",
        "b3=np.array(A)\n",
        "c3=a3.T @ b3.T\n",
        "\n",
        "\n",
        "import numpy as np\n",
        "p3=np.array(w_image_nonmeme.tolist())\n",
        "q3=np.array(B)\n",
        "r3=p3.T @ q3.T\n",
        "\n",
        "\n",
        "import numpy as np\n",
        "a4=np.array(w_text_meme.tolist())\n",
        "b4=np.array(A)\n",
        "c4=a4.T @ b4.T\n",
        "\n",
        "\n",
        "\n",
        "\n",
        "\n",
        "import numpy as np\n",
        "p4=np.array(w_image_meme.tolist())\n",
        "q4=np.array(B)\n",
        "\n",
        "r4=p4.T @ q4.T\n",
        "\n",
        "\n",
        "\n",
        "train_image=[]\n",
        "train_test=[]\n",
        "for i in range(len(A)):\n",
        "  train_image.append(list(c3.T[i])+list(c4.T[i]))\n",
        "  train_test.append(list(r4.T[i])+list(r4.T[i]))\n",
        "  "
      ],
      "execution_count": null,
      "outputs": []
    },
    {
      "cell_type": "code",
      "metadata": {
        "id": "bRkABFFMXHSp",
        "colab_type": "code",
        "colab": {}
      },
      "source": [
        "from scipy.spatial.distance import cityblock\n",
        "def manhattan(image_feature,text_feature):\n",
        "  dist = cityblock(image_feature,text_feature)\n",
        "  return dist"
      ],
      "execution_count": null,
      "outputs": []
    },
    {
      "cell_type": "code",
      "metadata": {
        "id": "wKFYDOjnXKq3",
        "colab_type": "code",
        "colab": {}
      },
      "source": [
        "manhattan_distances_nonmemes=[]\n",
        "manhattan_distances_memes=[]\n",
        "image_dist_nonmeme=[]\n",
        "image_dist_meme=[]\n",
        "text_dist_nonmeme=[]\n",
        "image_dist_meme=[]\n",
        "text_dist_meme=[]\n",
        "for i in range(len(X)):\n",
        "  a1=manhattan(train_non_image[i],train_non_test[i])\n",
        "  manhattan_distances_nonmemes.append(a1)\n",
        "\n",
        "for i in range(len(A)):\n",
        "  a2=manhattan(train_image[i],train_test[i])\n",
        "  manhattan_distances_memes.append(a2)\n"
      ],
      "execution_count": null,
      "outputs": []
    },
    {
      "cell_type": "code",
      "metadata": {
        "id": "TPPtGwBVXyqX",
        "colab_type": "code",
        "colab": {
          "base_uri": "https://localhost:8080/",
          "height": 264
        },
        "outputId": "5e0fb9b3-d990-4d4e-ff94-1b159aa8b420"
      },
      "source": [
        "\n",
        "u1=[0]*5600\n",
        "u2=[1]*5600\n",
        "from matplotlib import pyplot as plt\n",
        "plt.scatter(manhattan_distances_nonmemes,u1,marker=\",\",color='red')\n",
        "plt.scatter(manhattan_distances_memes,u2,marker=\",\",color='blue')\n",
        "plt.show()"
      ],
      "execution_count": null,
      "outputs": [
        {
          "output_type": "display_data",
          "data": {
            "image/png": "[encoded data removed]",
            "text/plain": [
              "<Figure size 432x288 with 1 Axes>"
            ]
          },
          "metadata": {
            "tags": [],
            "needs_background": "light"
          }
        }
      ]
    },
    {
      "cell_type": "code",
      "metadata": {
        "id": "BPVqmGp7Eu6X",
        "colab_type": "code",
        "colab": {
          "base_uri": "https://localhost:8080/",
          "height": 34
        },
        "outputId": "a9068db9-2c40-4660-88f1-9c0735c643d7"
      },
      "source": [
        "import pandas as pd\n",
        "import torch\n",
        "df5=pd.read_csv('/content/gdrive/My Drive/shuffled_features.csv')\n",
        "df5=df5[5600:7000]\n",
        "df5=df5.drop('Unnamed: 0',1)\n",
        "df5.drop(df5.iloc[:, 768:], inplace = True,axis=1) \n",
        "df6=pd.read_csv('/content/gdrive/My Drive/shuffled_features.csv')\n",
        "df6=df6[5600:7000]\n",
        "df6=df6.drop('Unnamed: 0',1)\n",
        "df6.drop(df6.iloc[:, 0:768], inplace = True,axis=1) \n",
        "df6=df6.drop('class',1)\n",
        "X1=list(df5.values)#text\n",
        "Y1=list(df6.values)#image\n",
        "print(len(X1))"
      ],
      "execution_count": null,
      "outputs": [
        {
          "output_type": "stream",
          "text": [
            "1400\n"
          ],
          "name": "stdout"
        }
      ]
    },
    {
      "cell_type": "code",
      "metadata": {
        "id": "v5otlV8rF93w",
        "colab_type": "code",
        "colab": {}
      },
      "source": [
        "import pandas as pd\n",
        "import torch\n",
        "df7=pd.read_csv('/content/gdrive/My Drive/shuffled_features.csv')\n",
        "df7=df7[12600:]\n",
        "df7=df7.drop('Unnamed: 0',1)\n",
        "df7.drop(df7.iloc[:, 768:], inplace = True,axis=1) \n",
        "df8=pd.read_csv('/content/gdrive/My Drive/shuffled_features.csv')\n",
        "df8=df8[12600:]\n",
        "df8=df8.drop('Unnamed: 0',1)\n",
        "df8.drop(df8.iloc[:, 0:768], inplace = True,axis=1) \n",
        "df8=df8.drop('class',1)\n",
        "A1=list(df7.values)#text\n",
        "B1=list(df8.values)#image"
      ],
      "execution_count": null,
      "outputs": []
    },
    {
      "cell_type": "code",
      "metadata": {
        "id": "1WBTR8luGQlf",
        "colab_type": "code",
        "colab": {}
      },
      "source": [
        "#testing\n",
        "#multiplication of non memes with weights\n",
        "import numpy as np\n",
        "a5=np.array(w_text_nonmeme.tolist())\n",
        "b5=np.array(X1)\n",
        "c5=a5.T @ b5.T\n",
        "\n",
        "\n",
        "\n",
        "import numpy as np\n",
        "p5=np.array(w_image_nonmeme.tolist())\n",
        "q5=np.array(Y1)\n",
        "r5=p5.T @ q5.T\n",
        "\n",
        "import numpy as np\n",
        "a6=np.array(w_text_meme.tolist())\n",
        "b6=np.array(X1)\n",
        "\n",
        "c6=a6.T @ b6.T\n",
        "\n",
        "\n",
        "\n",
        "\n",
        "import numpy as np\n",
        "p6=np.array(w_image_meme.tolist())\n",
        "q6=np.array(Y1)\n",
        "\n",
        "r6=p6.T @ q6.T\n",
        "\n",
        "\n",
        "\n",
        "testing_non_image=[]\n",
        "test_non_image=[]\n",
        "test_non_test=[]\n",
        "for i in range(len(X1)):\n",
        "  test_non_image.append(list(c5.T[i])+list(c6.T[i]))\n",
        "  test_non_test.append(list(r5.T[i])+list(r6.T[i]))\n",
        "\n",
        "\n",
        "  "
      ],
      "execution_count": null,
      "outputs": []
    },
    {
      "cell_type": "code",
      "metadata": {
        "id": "vL4foIG3HTaN",
        "colab_type": "code",
        "colab": {
          "base_uri": "https://localhost:8080/",
          "height": 34
        },
        "outputId": "588a1c27-cac5-4a82-8dc0-3b73ef8faac4"
      },
      "source": [
        "#multiplication of  memes with weights\n",
        "import numpy as np\n",
        "a7=np.array(w_text_nonmeme.tolist())\n",
        "b7=np.array(A1)\n",
        "\n",
        "\n",
        "c7=a7.T @ b7.T\n",
        "\n",
        "\n",
        "import numpy as np\n",
        "p7=np.array(w_image_nonmeme.tolist())\n",
        "q7=np.array(B1)\n",
        "\n",
        "\n",
        "r7=p7.T @ q7.T\n",
        "\n",
        "\n",
        "import numpy as np\n",
        "a8=np.array(w_text_meme.tolist())\n",
        "b8=np.array(A1)\n",
        "\n",
        "\n",
        "c8=a8.T @ b8.T\n",
        "\n",
        "\n",
        "\n",
        "\n",
        "import numpy as np\n",
        "p8=np.array(w_image_meme.tolist())\n",
        "q8=np.array(B1)\n",
        "\n",
        "r8=p8.T @ q8.T\n",
        "\n",
        "\n",
        "\n",
        "\n",
        "test_image=[]\n",
        "test_test=[]\n",
        "for i in range(len(A1)):\n",
        "  test_image.append(list(c7.T[i])+list(c8.T[i]))\n",
        "  test_test.append(list(r8.T[i])+list(r8.T[i]))\n",
        "print(len(test_image)) "
      ],
      "execution_count": null,
      "outputs": [
        {
          "output_type": "stream",
          "text": [
            "1377\n"
          ],
          "name": "stdout"
        }
      ]
    },
    {
      "cell_type": "code",
      "metadata": {
        "id": "u5yZxApGTvrr",
        "colab_type": "code",
        "colab": {}
      },
      "source": [
        "from scipy.spatial.distance import cityblock\n",
        "def manhattan(image_feature,text_feature):\n",
        "  dist = cityblock(image_feature,text_feature)\n",
        "  return dist"
      ],
      "execution_count": null,
      "outputs": []
    },
    {
      "cell_type": "code",
      "metadata": {
        "id": "AkxtOqZx-sdU",
        "colab_type": "code",
        "colab": {}
      },
      "source": [
        "from sklearn.metrics.pairwise import cosine_similarity\n",
        "def cosinsim(image_feature,text_feature):\n",
        "  cosin_sim=cosine_similarity(image_feature.reshape(),text_feature)\n",
        "  return cosin_sim"
      ],
      "execution_count": null,
      "outputs": []
    },
    {
      "cell_type": "code",
      "metadata": {
        "id": "JsLtroe0aIjK",
        "colab_type": "code",
        "colab": {
          "base_uri": "https://localhost:8080/",
          "height": 476
        },
        "outputId": "cae3bd19-4c08-48ca-9403-55c009682b37"
      },
      "source": [
        "\n",
        "image_dist_nonmeme=[]\n",
        "image_dist_meme=[]\n",
        "text_dist_nonmeme=[]\n",
        "image_dist_meme=[]\n",
        "text_dist_meme=[]\n",
        "manhattan_distances_memes=[]\n",
        "manhattan_distances_nonmemes=[]\n",
        "manhattan_distances_memes2=[]\n",
        "manhattan_distances_nonmemes2=[]\n",
        "\n",
        "for i in range(len(X1)):\n",
        "  a1=manhattan(test_non_image[i],test_non_test[i])\n",
        "  b1=cosinsim(test_non_image[i],test_non_test[i])\n",
        "  manhattan_distances_nonmemes.append(a1)\n",
        "  manhattan_distances_nonmemes2.append(b1)\n",
        "\n",
        "for i in range(len(A1)):\n",
        "  a2=manhattan(test_image[i],test_test[i])\n",
        "  b2=cosinsim(test_image[i],test_test[i])\n",
        "  manhattan_distances_memes.append(a2)\n",
        "  manhattan_distances_memes2.append(b2)\n"
      ],
      "execution_count": null,
      "outputs": [
        {
          "output_type": "error",
          "ename": "ValueError",
          "evalue": "ignored",
          "traceback": [
            "\u001b[0;31m---------------------------------------------------------------------------\u001b[0m",
            "\u001b[0;31mValueError\u001b[0m                                Traceback (most recent call last)",
            "\u001b[0;32m<ipython-input-79-90be6592f759>\u001b[0m in \u001b[0;36m<module>\u001b[0;34m()\u001b[0m\n\u001b[1;32m     12\u001b[0m \u001b[0;32mfor\u001b[0m \u001b[0mi\u001b[0m \u001b[0;32min\u001b[0m \u001b[0mrange\u001b[0m\u001b[0;34m(\u001b[0m\u001b[0mlen\u001b[0m\u001b[0;34m(\u001b[0m\u001b[0mX1\u001b[0m\u001b[0;34m)\u001b[0m\u001b[0;34m)\u001b[0m\u001b[0;34m:\u001b[0m\u001b[0;34m\u001b[0m\u001b[0;34m\u001b[0m\u001b[0m\n\u001b[1;32m     13\u001b[0m   \u001b[0ma1\u001b[0m\u001b[0;34m=\u001b[0m\u001b[0mmanhattan\u001b[0m\u001b[0;34m(\u001b[0m\u001b[0mtest_non_image\u001b[0m\u001b[0;34m[\u001b[0m\u001b[0mi\u001b[0m\u001b[0;34m]\u001b[0m\u001b[0;34m,\u001b[0m\u001b[0mtest_non_test\u001b[0m\u001b[0;34m[\u001b[0m\u001b[0mi\u001b[0m\u001b[0;34m]\u001b[0m\u001b[0;34m)\u001b[0m\u001b[0;34m\u001b[0m\u001b[0;34m\u001b[0m\u001b[0m\n\u001b[0;32m---> 14\u001b[0;31m   \u001b[0mb1\u001b[0m\u001b[0;34m=\u001b[0m\u001b[0mcosinsim\u001b[0m\u001b[0;34m(\u001b[0m\u001b[0mtest_non_image\u001b[0m\u001b[0;34m[\u001b[0m\u001b[0mi\u001b[0m\u001b[0;34m]\u001b[0m\u001b[0;34m,\u001b[0m\u001b[0mtest_non_test\u001b[0m\u001b[0;34m[\u001b[0m\u001b[0mi\u001b[0m\u001b[0;34m]\u001b[0m\u001b[0;34m)\u001b[0m\u001b[0;34m\u001b[0m\u001b[0;34m\u001b[0m\u001b[0m\n\u001b[0m\u001b[1;32m     15\u001b[0m   \u001b[0mmanhattan_distances_nonmemes\u001b[0m\u001b[0;34m.\u001b[0m\u001b[0mappend\u001b[0m\u001b[0;34m(\u001b[0m\u001b[0ma1\u001b[0m\u001b[0;34m)\u001b[0m\u001b[0;34m\u001b[0m\u001b[0;34m\u001b[0m\u001b[0m\n\u001b[1;32m     16\u001b[0m   \u001b[0mmanhattan_distances_nonmemes2\u001b[0m\u001b[0;34m.\u001b[0m\u001b[0mappend\u001b[0m\u001b[0;34m(\u001b[0m\u001b[0mb1\u001b[0m\u001b[0;34m)\u001b[0m\u001b[0;34m\u001b[0m\u001b[0;34m\u001b[0m\u001b[0m\n",
            "\u001b[0;32m<ipython-input-78-7f2c9245f98d>\u001b[0m in \u001b[0;36mcosinsim\u001b[0;34m(image_feature, text_feature)\u001b[0m\n\u001b[1;32m      1\u001b[0m \u001b[0;32mfrom\u001b[0m \u001b[0msklearn\u001b[0m\u001b[0;34m.\u001b[0m\u001b[0mmetrics\u001b[0m\u001b[0;34m.\u001b[0m\u001b[0mpairwise\u001b[0m \u001b[0;32mimport\u001b[0m \u001b[0mcosine_similarity\u001b[0m\u001b[0;34m\u001b[0m\u001b[0;34m\u001b[0m\u001b[0m\n\u001b[1;32m      2\u001b[0m \u001b[0;32mdef\u001b[0m \u001b[0mcosinsim\u001b[0m\u001b[0;34m(\u001b[0m\u001b[0mimage_feature\u001b[0m\u001b[0;34m,\u001b[0m\u001b[0mtext_feature\u001b[0m\u001b[0;34m)\u001b[0m\u001b[0;34m:\u001b[0m\u001b[0;34m\u001b[0m\u001b[0;34m\u001b[0m\u001b[0m\n\u001b[0;32m----> 3\u001b[0;31m   \u001b[0mcosin_sim\u001b[0m\u001b[0;34m=\u001b[0m\u001b[0mcosine_similarity\u001b[0m\u001b[0;34m(\u001b[0m\u001b[0mimage_feature\u001b[0m\u001b[0;34m,\u001b[0m\u001b[0mtext_feature\u001b[0m\u001b[0;34m)\u001b[0m\u001b[0;34m\u001b[0m\u001b[0;34m\u001b[0m\u001b[0m\n\u001b[0m\u001b[1;32m      4\u001b[0m   \u001b[0;32mreturn\u001b[0m \u001b[0mcosin_sim\u001b[0m\u001b[0;34m\u001b[0m\u001b[0;34m\u001b[0m\u001b[0m\n",
            "\u001b[0;32m/usr/local/lib/python3.6/dist-packages/sklearn/metrics/pairwise.py\u001b[0m in \u001b[0;36mcosine_similarity\u001b[0;34m(X, Y, dense_output)\u001b[0m\n\u001b[1;32m   1165\u001b[0m     \u001b[0;31m# to avoid recursive import\u001b[0m\u001b[0;34m\u001b[0m\u001b[0;34m\u001b[0m\u001b[0;34m\u001b[0m\u001b[0m\n\u001b[1;32m   1166\u001b[0m \u001b[0;34m\u001b[0m\u001b[0m\n\u001b[0;32m-> 1167\u001b[0;31m     \u001b[0mX\u001b[0m\u001b[0;34m,\u001b[0m \u001b[0mY\u001b[0m \u001b[0;34m=\u001b[0m \u001b[0mcheck_pairwise_arrays\u001b[0m\u001b[0;34m(\u001b[0m\u001b[0mX\u001b[0m\u001b[0;34m,\u001b[0m \u001b[0mY\u001b[0m\u001b[0;34m)\u001b[0m\u001b[0;34m\u001b[0m\u001b[0;34m\u001b[0m\u001b[0m\n\u001b[0m\u001b[1;32m   1168\u001b[0m \u001b[0;34m\u001b[0m\u001b[0m\n\u001b[1;32m   1169\u001b[0m     \u001b[0mX_normalized\u001b[0m \u001b[0;34m=\u001b[0m \u001b[0mnormalize\u001b[0m\u001b[0;34m(\u001b[0m\u001b[0mX\u001b[0m\u001b[0;34m,\u001b[0m \u001b[0mcopy\u001b[0m\u001b[0;34m=\u001b[0m\u001b[0;32mTrue\u001b[0m\u001b[0;34m)\u001b[0m\u001b[0;34m\u001b[0m\u001b[0;34m\u001b[0m\u001b[0m\n",
            "\u001b[0;32m/usr/local/lib/python3.6/dist-packages/sklearn/metrics/pairwise.py\u001b[0m in \u001b[0;36mcheck_pairwise_arrays\u001b[0;34m(X, Y, precomputed, dtype, accept_sparse, force_all_finite, copy)\u001b[0m\n\u001b[1;32m    139\u001b[0m         X = check_array(X, accept_sparse=accept_sparse, dtype=dtype,\n\u001b[1;32m    140\u001b[0m                         \u001b[0mcopy\u001b[0m\u001b[0;34m=\u001b[0m\u001b[0mcopy\u001b[0m\u001b[0;34m,\u001b[0m \u001b[0mforce_all_finite\u001b[0m\u001b[0;34m=\u001b[0m\u001b[0mforce_all_finite\u001b[0m\u001b[0;34m,\u001b[0m\u001b[0;34m\u001b[0m\u001b[0;34m\u001b[0m\u001b[0m\n\u001b[0;32m--> 141\u001b[0;31m                         estimator=estimator)\n\u001b[0m\u001b[1;32m    142\u001b[0m         Y = check_array(Y, accept_sparse=accept_sparse, dtype=dtype,\n\u001b[1;32m    143\u001b[0m                         \u001b[0mcopy\u001b[0m\u001b[0;34m=\u001b[0m\u001b[0mcopy\u001b[0m\u001b[0;34m,\u001b[0m \u001b[0mforce_all_finite\u001b[0m\u001b[0;34m=\u001b[0m\u001b[0mforce_all_finite\u001b[0m\u001b[0;34m,\u001b[0m\u001b[0;34m\u001b[0m\u001b[0;34m\u001b[0m\u001b[0m\n",
            "\u001b[0;32m/usr/local/lib/python3.6/dist-packages/sklearn/utils/validation.py\u001b[0m in \u001b[0;36mcheck_array\u001b[0;34m(array, accept_sparse, accept_large_sparse, dtype, order, copy, force_all_finite, ensure_2d, allow_nd, ensure_min_samples, ensure_min_features, warn_on_dtype, estimator)\u001b[0m\n\u001b[1;32m    554\u001b[0m                     \u001b[0;34m\"Reshape your data either using array.reshape(-1, 1) if \"\u001b[0m\u001b[0;34m\u001b[0m\u001b[0;34m\u001b[0m\u001b[0m\n\u001b[1;32m    555\u001b[0m                     \u001b[0;34m\"your data has a single feature or array.reshape(1, -1) \"\u001b[0m\u001b[0;34m\u001b[0m\u001b[0;34m\u001b[0m\u001b[0m\n\u001b[0;32m--> 556\u001b[0;31m                     \"if it contains a single sample.\".format(array))\n\u001b[0m\u001b[1;32m    557\u001b[0m \u001b[0;34m\u001b[0m\u001b[0m\n\u001b[1;32m    558\u001b[0m         \u001b[0;31m# in the future np.flexible dtypes will be handled like object dtypes\u001b[0m\u001b[0;34m\u001b[0m\u001b[0;34m\u001b[0m\u001b[0;34m\u001b[0m\u001b[0m\n",
            "\u001b[0;31mValueError\u001b[0m: Expected 2D array, got 1D array instead:\narray=[ 3.37632403  0.02387724  0.008636   -0.1180021   0.03600821  0.07962544\n -0.05193077  0.01485057  0.6295176  -0.00960329 -0.05297039 -0.02634949\n  0.01259212 -0.03778532  0.01708949 -0.05522759].\nReshape your data either using array.reshape(-1, 1) if your data has a single feature or array.reshape(1, -1) if it contains a single sample."
          ]
        }
      ]
    },
    {
      "cell_type": "code",
      "metadata": {
        "id": "nL4DdiOeaYzF",
        "colab_type": "code",
        "colab": {
          "base_uri": "https://localhost:8080/",
          "height": 692
        },
        "outputId": "3244622e-bf50-430a-bc20-336d92464546"
      },
      "source": [
        "\n",
        "u1=[0]*len(X1)\n",
        "u2=[1]*len(A1)\n",
        "print(len(manhattan_distances_nonmemes))\n",
        "print(len(u1))\n",
        "from matplotlib import pyplot as plt\n",
        "plt.scatter(manhattan_distances_nonmemes,u1,marker=\",\",color='red')\n",
        "plt.scatter(manhattan_distances_memes,u2,marker=\",\",color='blue')\n",
        "\n",
        "plt.show()"
      ],
      "execution_count": null,
      "outputs": [
        {
          "output_type": "stream",
          "text": [
            "0\n",
            "1400\n"
          ],
          "name": "stdout"
        },
        {
          "output_type": "error",
          "ename": "ValueError",
          "evalue": "ignored",
          "traceback": [
            "\u001b[0;31m---------------------------------------------------------------------------\u001b[0m",
            "\u001b[0;31mValueError\u001b[0m                                Traceback (most recent call last)",
            "\u001b[0;32m<ipython-input-75-168eb31b3f6f>\u001b[0m in \u001b[0;36m<module>\u001b[0;34m()\u001b[0m\n\u001b[1;32m      5\u001b[0m \u001b[0mprint\u001b[0m\u001b[0;34m(\u001b[0m\u001b[0mlen\u001b[0m\u001b[0;34m(\u001b[0m\u001b[0mu1\u001b[0m\u001b[0;34m)\u001b[0m\u001b[0;34m)\u001b[0m\u001b[0;34m\u001b[0m\u001b[0;34m\u001b[0m\u001b[0m\n\u001b[1;32m      6\u001b[0m \u001b[0;32mfrom\u001b[0m \u001b[0mmatplotlib\u001b[0m \u001b[0;32mimport\u001b[0m \u001b[0mpyplot\u001b[0m \u001b[0;32mas\u001b[0m \u001b[0mplt\u001b[0m\u001b[0;34m\u001b[0m\u001b[0;34m\u001b[0m\u001b[0m\n\u001b[0;32m----> 7\u001b[0;31m \u001b[0mplt\u001b[0m\u001b[0;34m.\u001b[0m\u001b[0mscatter\u001b[0m\u001b[0;34m(\u001b[0m\u001b[0mmanhattan_distances_nonmemes\u001b[0m\u001b[0;34m,\u001b[0m\u001b[0mu1\u001b[0m\u001b[0;34m,\u001b[0m\u001b[0mmarker\u001b[0m\u001b[0;34m=\u001b[0m\u001b[0;34m\",\"\u001b[0m\u001b[0;34m,\u001b[0m\u001b[0mcolor\u001b[0m\u001b[0;34m=\u001b[0m\u001b[0;34m'red'\u001b[0m\u001b[0;34m)\u001b[0m\u001b[0;34m\u001b[0m\u001b[0;34m\u001b[0m\u001b[0m\n\u001b[0m\u001b[1;32m      8\u001b[0m \u001b[0mplt\u001b[0m\u001b[0;34m.\u001b[0m\u001b[0mscatter\u001b[0m\u001b[0;34m(\u001b[0m\u001b[0mmanhattan_distances_memes\u001b[0m\u001b[0;34m,\u001b[0m\u001b[0mu2\u001b[0m\u001b[0;34m,\u001b[0m\u001b[0mmarker\u001b[0m\u001b[0;34m=\u001b[0m\u001b[0;34m\",\"\u001b[0m\u001b[0;34m,\u001b[0m\u001b[0mcolor\u001b[0m\u001b[0;34m=\u001b[0m\u001b[0;34m'blue'\u001b[0m\u001b[0;34m)\u001b[0m\u001b[0;34m\u001b[0m\u001b[0;34m\u001b[0m\u001b[0m\n\u001b[1;32m      9\u001b[0m \u001b[0;34m\u001b[0m\u001b[0m\n",
            "\u001b[0;32m/usr/local/lib/python3.6/dist-packages/matplotlib/pyplot.py\u001b[0m in \u001b[0;36mscatter\u001b[0;34m(x, y, s, c, marker, cmap, norm, vmin, vmax, alpha, linewidths, verts, edgecolors, plotnonfinite, data, **kwargs)\u001b[0m\n\u001b[1;32m   2814\u001b[0m         \u001b[0mverts\u001b[0m\u001b[0;34m=\u001b[0m\u001b[0mverts\u001b[0m\u001b[0;34m,\u001b[0m \u001b[0medgecolors\u001b[0m\u001b[0;34m=\u001b[0m\u001b[0medgecolors\u001b[0m\u001b[0;34m,\u001b[0m\u001b[0;34m\u001b[0m\u001b[0;34m\u001b[0m\u001b[0m\n\u001b[1;32m   2815\u001b[0m         plotnonfinite=plotnonfinite, **({\"data\": data} if data is not\n\u001b[0;32m-> 2816\u001b[0;31m         None else {}), **kwargs)\n\u001b[0m\u001b[1;32m   2817\u001b[0m     \u001b[0msci\u001b[0m\u001b[0;34m(\u001b[0m\u001b[0m__ret\u001b[0m\u001b[0;34m)\u001b[0m\u001b[0;34m\u001b[0m\u001b[0;34m\u001b[0m\u001b[0m\n\u001b[1;32m   2818\u001b[0m     \u001b[0;32mreturn\u001b[0m \u001b[0m__ret\u001b[0m\u001b[0;34m\u001b[0m\u001b[0;34m\u001b[0m\u001b[0m\n",
            "\u001b[0;32m/usr/local/lib/python3.6/dist-packages/matplotlib/__init__.py\u001b[0m in \u001b[0;36minner\u001b[0;34m(ax, data, *args, **kwargs)\u001b[0m\n\u001b[1;32m   1563\u001b[0m     \u001b[0;32mdef\u001b[0m \u001b[0minner\u001b[0m\u001b[0;34m(\u001b[0m\u001b[0max\u001b[0m\u001b[0;34m,\u001b[0m \u001b[0;34m*\u001b[0m\u001b[0margs\u001b[0m\u001b[0;34m,\u001b[0m \u001b[0mdata\u001b[0m\u001b[0;34m=\u001b[0m\u001b[0;32mNone\u001b[0m\u001b[0;34m,\u001b[0m \u001b[0;34m**\u001b[0m\u001b[0mkwargs\u001b[0m\u001b[0;34m)\u001b[0m\u001b[0;34m:\u001b[0m\u001b[0;34m\u001b[0m\u001b[0;34m\u001b[0m\u001b[0m\n\u001b[1;32m   1564\u001b[0m         \u001b[0;32mif\u001b[0m \u001b[0mdata\u001b[0m \u001b[0;32mis\u001b[0m \u001b[0;32mNone\u001b[0m\u001b[0;34m:\u001b[0m\u001b[0;34m\u001b[0m\u001b[0;34m\u001b[0m\u001b[0m\n\u001b[0;32m-> 1565\u001b[0;31m             \u001b[0;32mreturn\u001b[0m \u001b[0mfunc\u001b[0m\u001b[0;34m(\u001b[0m\u001b[0max\u001b[0m\u001b[0;34m,\u001b[0m \u001b[0;34m*\u001b[0m\u001b[0mmap\u001b[0m\u001b[0;34m(\u001b[0m\u001b[0msanitize_sequence\u001b[0m\u001b[0;34m,\u001b[0m \u001b[0margs\u001b[0m\u001b[0;34m)\u001b[0m\u001b[0;34m,\u001b[0m \u001b[0;34m**\u001b[0m\u001b[0mkwargs\u001b[0m\u001b[0;34m)\u001b[0m\u001b[0;34m\u001b[0m\u001b[0;34m\u001b[0m\u001b[0m\n\u001b[0m\u001b[1;32m   1566\u001b[0m \u001b[0;34m\u001b[0m\u001b[0m\n\u001b[1;32m   1567\u001b[0m         \u001b[0mbound\u001b[0m \u001b[0;34m=\u001b[0m \u001b[0mnew_sig\u001b[0m\u001b[0;34m.\u001b[0m\u001b[0mbind\u001b[0m\u001b[0;34m(\u001b[0m\u001b[0max\u001b[0m\u001b[0;34m,\u001b[0m \u001b[0;34m*\u001b[0m\u001b[0margs\u001b[0m\u001b[0;34m,\u001b[0m \u001b[0;34m**\u001b[0m\u001b[0mkwargs\u001b[0m\u001b[0;34m)\u001b[0m\u001b[0;34m\u001b[0m\u001b[0;34m\u001b[0m\u001b[0m\n",
            "\u001b[0;32m/usr/local/lib/python3.6/dist-packages/matplotlib/cbook/deprecation.py\u001b[0m in \u001b[0;36mwrapper\u001b[0;34m(*args, **kwargs)\u001b[0m\n\u001b[1;32m    356\u001b[0m                 \u001b[0;34mf\"%(removal)s.  If any parameter follows {name!r}, they \"\u001b[0m\u001b[0;34m\u001b[0m\u001b[0;34m\u001b[0m\u001b[0m\n\u001b[1;32m    357\u001b[0m                 f\"should be pass as keyword, not positionally.\")\n\u001b[0;32m--> 358\u001b[0;31m         \u001b[0;32mreturn\u001b[0m \u001b[0mfunc\u001b[0m\u001b[0;34m(\u001b[0m\u001b[0;34m*\u001b[0m\u001b[0margs\u001b[0m\u001b[0;34m,\u001b[0m \u001b[0;34m**\u001b[0m\u001b[0mkwargs\u001b[0m\u001b[0;34m)\u001b[0m\u001b[0;34m\u001b[0m\u001b[0;34m\u001b[0m\u001b[0m\n\u001b[0m\u001b[1;32m    359\u001b[0m \u001b[0;34m\u001b[0m\u001b[0m\n\u001b[1;32m    360\u001b[0m     \u001b[0;32mreturn\u001b[0m \u001b[0mwrapper\u001b[0m\u001b[0;34m\u001b[0m\u001b[0;34m\u001b[0m\u001b[0m\n",
            "\u001b[0;32m/usr/local/lib/python3.6/dist-packages/matplotlib/axes/_axes.py\u001b[0m in \u001b[0;36mscatter\u001b[0;34m(self, x, y, s, c, marker, cmap, norm, vmin, vmax, alpha, linewidths, verts, edgecolors, plotnonfinite, **kwargs)\u001b[0m\n\u001b[1;32m   4389\u001b[0m         \u001b[0my\u001b[0m \u001b[0;34m=\u001b[0m \u001b[0mnp\u001b[0m\u001b[0;34m.\u001b[0m\u001b[0mma\u001b[0m\u001b[0;34m.\u001b[0m\u001b[0mravel\u001b[0m\u001b[0;34m(\u001b[0m\u001b[0my\u001b[0m\u001b[0;34m)\u001b[0m\u001b[0;34m\u001b[0m\u001b[0;34m\u001b[0m\u001b[0m\n\u001b[1;32m   4390\u001b[0m         \u001b[0;32mif\u001b[0m \u001b[0mx\u001b[0m\u001b[0;34m.\u001b[0m\u001b[0msize\u001b[0m \u001b[0;34m!=\u001b[0m \u001b[0my\u001b[0m\u001b[0;34m.\u001b[0m\u001b[0msize\u001b[0m\u001b[0;34m:\u001b[0m\u001b[0;34m\u001b[0m\u001b[0;34m\u001b[0m\u001b[0m\n\u001b[0;32m-> 4391\u001b[0;31m             \u001b[0;32mraise\u001b[0m \u001b[0mValueError\u001b[0m\u001b[0;34m(\u001b[0m\u001b[0;34m\"x and y must be the same size\"\u001b[0m\u001b[0;34m)\u001b[0m\u001b[0;34m\u001b[0m\u001b[0;34m\u001b[0m\u001b[0m\n\u001b[0m\u001b[1;32m   4392\u001b[0m \u001b[0;34m\u001b[0m\u001b[0m\n\u001b[1;32m   4393\u001b[0m         \u001b[0;32mif\u001b[0m \u001b[0ms\u001b[0m \u001b[0;32mis\u001b[0m \u001b[0;32mNone\u001b[0m\u001b[0;34m:\u001b[0m\u001b[0;34m\u001b[0m\u001b[0;34m\u001b[0m\u001b[0m\n",
            "\u001b[0;31mValueError\u001b[0m: x and y must be the same size"
          ]
        },
        {
          "output_type": "display_data",
          "data": {
            "image/png": "[encoded data removed]",
            "text/plain": [
              "<Figure size 432x288 with 1 Axes>"
            ]
          },
          "metadata": {
            "tags": [],
            "needs_background": "light"
          }
        }
      ]
    },
    {
      "cell_type": "code",
      "metadata": {
        "id": "r0uCgeERABlQ",
        "colab_type": "code",
        "colab": {
          "base_uri": "https://localhost:8080/",
          "height": 692
        },
        "outputId": "7d6e79e3-7b3b-465b-cb0e-af51cd952381"
      },
      "source": [
        "\n",
        "u1=[0]*len(X1)\n",
        "u2=[1]*len(A1)\n",
        "print(len(manhattan_distances_nonmemes))\n",
        "print(len(u1))\n",
        "from matplotlib import pyplot as plt\n",
        "plt.scatter(manhattan_distances_nonmemes2,u1,marker=\",\",color='red')\n",
        "plt.scatter(manhattan_distances_memes2,u2,marker=\",\",color='blue')\n",
        "\n",
        "plt.show()"
      ],
      "execution_count": null,
      "outputs": [
        {
          "output_type": "stream",
          "text": [
            "0\n",
            "1400\n"
          ],
          "name": "stdout"
        },
        {
          "output_type": "error",
          "ename": "ValueError",
          "evalue": "ignored",
          "traceback": [
            "\u001b[0;31m---------------------------------------------------------------------------\u001b[0m",
            "\u001b[0;31mValueError\u001b[0m                                Traceback (most recent call last)",
            "\u001b[0;32m<ipython-input-76-988a541c4182>\u001b[0m in \u001b[0;36m<module>\u001b[0;34m()\u001b[0m\n\u001b[1;32m      5\u001b[0m \u001b[0mprint\u001b[0m\u001b[0;34m(\u001b[0m\u001b[0mlen\u001b[0m\u001b[0;34m(\u001b[0m\u001b[0mu1\u001b[0m\u001b[0;34m)\u001b[0m\u001b[0;34m)\u001b[0m\u001b[0;34m\u001b[0m\u001b[0;34m\u001b[0m\u001b[0m\n\u001b[1;32m      6\u001b[0m \u001b[0;32mfrom\u001b[0m \u001b[0mmatplotlib\u001b[0m \u001b[0;32mimport\u001b[0m \u001b[0mpyplot\u001b[0m \u001b[0;32mas\u001b[0m \u001b[0mplt\u001b[0m\u001b[0;34m\u001b[0m\u001b[0;34m\u001b[0m\u001b[0m\n\u001b[0;32m----> 7\u001b[0;31m \u001b[0mplt\u001b[0m\u001b[0;34m.\u001b[0m\u001b[0mscatter\u001b[0m\u001b[0;34m(\u001b[0m\u001b[0mmanhattan_distances_nonmemes2\u001b[0m\u001b[0;34m,\u001b[0m\u001b[0mu1\u001b[0m\u001b[0;34m,\u001b[0m\u001b[0mmarker\u001b[0m\u001b[0;34m=\u001b[0m\u001b[0;34m\",\"\u001b[0m\u001b[0;34m,\u001b[0m\u001b[0mcolor\u001b[0m\u001b[0;34m=\u001b[0m\u001b[0;34m'red'\u001b[0m\u001b[0;34m)\u001b[0m\u001b[0;34m\u001b[0m\u001b[0;34m\u001b[0m\u001b[0m\n\u001b[0m\u001b[1;32m      8\u001b[0m \u001b[0mplt\u001b[0m\u001b[0;34m.\u001b[0m\u001b[0mscatter\u001b[0m\u001b[0;34m(\u001b[0m\u001b[0mmanhattan_distances_memes2\u001b[0m\u001b[0;34m,\u001b[0m\u001b[0mu2\u001b[0m\u001b[0;34m,\u001b[0m\u001b[0mmarker\u001b[0m\u001b[0;34m=\u001b[0m\u001b[0;34m\",\"\u001b[0m\u001b[0;34m,\u001b[0m\u001b[0mcolor\u001b[0m\u001b[0;34m=\u001b[0m\u001b[0;34m'blue'\u001b[0m\u001b[0;34m)\u001b[0m\u001b[0;34m\u001b[0m\u001b[0;34m\u001b[0m\u001b[0m\n\u001b[1;32m      9\u001b[0m \u001b[0;34m\u001b[0m\u001b[0m\n",
            "\u001b[0;32m/usr/local/lib/python3.6/dist-packages/matplotlib/pyplot.py\u001b[0m in \u001b[0;36mscatter\u001b[0;34m(x, y, s, c, marker, cmap, norm, vmin, vmax, alpha, linewidths, verts, edgecolors, plotnonfinite, data, **kwargs)\u001b[0m\n\u001b[1;32m   2814\u001b[0m         \u001b[0mverts\u001b[0m\u001b[0;34m=\u001b[0m\u001b[0mverts\u001b[0m\u001b[0;34m,\u001b[0m \u001b[0medgecolors\u001b[0m\u001b[0;34m=\u001b[0m\u001b[0medgecolors\u001b[0m\u001b[0;34m,\u001b[0m\u001b[0;34m\u001b[0m\u001b[0;34m\u001b[0m\u001b[0m\n\u001b[1;32m   2815\u001b[0m         plotnonfinite=plotnonfinite, **({\"data\": data} if data is not\n\u001b[0;32m-> 2816\u001b[0;31m         None else {}), **kwargs)\n\u001b[0m\u001b[1;32m   2817\u001b[0m     \u001b[0msci\u001b[0m\u001b[0;34m(\u001b[0m\u001b[0m__ret\u001b[0m\u001b[0;34m)\u001b[0m\u001b[0;34m\u001b[0m\u001b[0;34m\u001b[0m\u001b[0m\n\u001b[1;32m   2818\u001b[0m     \u001b[0;32mreturn\u001b[0m \u001b[0m__ret\u001b[0m\u001b[0;34m\u001b[0m\u001b[0;34m\u001b[0m\u001b[0m\n",
            "\u001b[0;32m/usr/local/lib/python3.6/dist-packages/matplotlib/__init__.py\u001b[0m in \u001b[0;36minner\u001b[0;34m(ax, data, *args, **kwargs)\u001b[0m\n\u001b[1;32m   1563\u001b[0m     \u001b[0;32mdef\u001b[0m \u001b[0minner\u001b[0m\u001b[0;34m(\u001b[0m\u001b[0max\u001b[0m\u001b[0;34m,\u001b[0m \u001b[0;34m*\u001b[0m\u001b[0margs\u001b[0m\u001b[0;34m,\u001b[0m \u001b[0mdata\u001b[0m\u001b[0;34m=\u001b[0m\u001b[0;32mNone\u001b[0m\u001b[0;34m,\u001b[0m \u001b[0;34m**\u001b[0m\u001b[0mkwargs\u001b[0m\u001b[0;34m)\u001b[0m\u001b[0;34m:\u001b[0m\u001b[0;34m\u001b[0m\u001b[0;34m\u001b[0m\u001b[0m\n\u001b[1;32m   1564\u001b[0m         \u001b[0;32mif\u001b[0m \u001b[0mdata\u001b[0m \u001b[0;32mis\u001b[0m \u001b[0;32mNone\u001b[0m\u001b[0;34m:\u001b[0m\u001b[0;34m\u001b[0m\u001b[0;34m\u001b[0m\u001b[0m\n\u001b[0;32m-> 1565\u001b[0;31m             \u001b[0;32mreturn\u001b[0m \u001b[0mfunc\u001b[0m\u001b[0;34m(\u001b[0m\u001b[0max\u001b[0m\u001b[0;34m,\u001b[0m \u001b[0;34m*\u001b[0m\u001b[0mmap\u001b[0m\u001b[0;34m(\u001b[0m\u001b[0msanitize_sequence\u001b[0m\u001b[0;34m,\u001b[0m \u001b[0margs\u001b[0m\u001b[0;34m)\u001b[0m\u001b[0;34m,\u001b[0m \u001b[0;34m**\u001b[0m\u001b[0mkwargs\u001b[0m\u001b[0;34m)\u001b[0m\u001b[0;34m\u001b[0m\u001b[0;34m\u001b[0m\u001b[0m\n\u001b[0m\u001b[1;32m   1566\u001b[0m \u001b[0;34m\u001b[0m\u001b[0m\n\u001b[1;32m   1567\u001b[0m         \u001b[0mbound\u001b[0m \u001b[0;34m=\u001b[0m \u001b[0mnew_sig\u001b[0m\u001b[0;34m.\u001b[0m\u001b[0mbind\u001b[0m\u001b[0;34m(\u001b[0m\u001b[0max\u001b[0m\u001b[0;34m,\u001b[0m \u001b[0;34m*\u001b[0m\u001b[0margs\u001b[0m\u001b[0;34m,\u001b[0m \u001b[0;34m**\u001b[0m\u001b[0mkwargs\u001b[0m\u001b[0;34m)\u001b[0m\u001b[0;34m\u001b[0m\u001b[0;34m\u001b[0m\u001b[0m\n",
            "\u001b[0;32m/usr/local/lib/python3.6/dist-packages/matplotlib/cbook/deprecation.py\u001b[0m in \u001b[0;36mwrapper\u001b[0;34m(*args, **kwargs)\u001b[0m\n\u001b[1;32m    356\u001b[0m                 \u001b[0;34mf\"%(removal)s.  If any parameter follows {name!r}, they \"\u001b[0m\u001b[0;34m\u001b[0m\u001b[0;34m\u001b[0m\u001b[0m\n\u001b[1;32m    357\u001b[0m                 f\"should be pass as keyword, not positionally.\")\n\u001b[0;32m--> 358\u001b[0;31m         \u001b[0;32mreturn\u001b[0m \u001b[0mfunc\u001b[0m\u001b[0;34m(\u001b[0m\u001b[0;34m*\u001b[0m\u001b[0margs\u001b[0m\u001b[0;34m,\u001b[0m \u001b[0;34m**\u001b[0m\u001b[0mkwargs\u001b[0m\u001b[0;34m)\u001b[0m\u001b[0;34m\u001b[0m\u001b[0;34m\u001b[0m\u001b[0m\n\u001b[0m\u001b[1;32m    359\u001b[0m \u001b[0;34m\u001b[0m\u001b[0m\n\u001b[1;32m    360\u001b[0m     \u001b[0;32mreturn\u001b[0m \u001b[0mwrapper\u001b[0m\u001b[0;34m\u001b[0m\u001b[0;34m\u001b[0m\u001b[0m\n",
            "\u001b[0;32m/usr/local/lib/python3.6/dist-packages/matplotlib/axes/_axes.py\u001b[0m in \u001b[0;36mscatter\u001b[0;34m(self, x, y, s, c, marker, cmap, norm, vmin, vmax, alpha, linewidths, verts, edgecolors, plotnonfinite, **kwargs)\u001b[0m\n\u001b[1;32m   4389\u001b[0m         \u001b[0my\u001b[0m \u001b[0;34m=\u001b[0m \u001b[0mnp\u001b[0m\u001b[0;34m.\u001b[0m\u001b[0mma\u001b[0m\u001b[0;34m.\u001b[0m\u001b[0mravel\u001b[0m\u001b[0;34m(\u001b[0m\u001b[0my\u001b[0m\u001b[0;34m)\u001b[0m\u001b[0;34m\u001b[0m\u001b[0;34m\u001b[0m\u001b[0m\n\u001b[1;32m   4390\u001b[0m         \u001b[0;32mif\u001b[0m \u001b[0mx\u001b[0m\u001b[0;34m.\u001b[0m\u001b[0msize\u001b[0m \u001b[0;34m!=\u001b[0m \u001b[0my\u001b[0m\u001b[0;34m.\u001b[0m\u001b[0msize\u001b[0m\u001b[0;34m:\u001b[0m\u001b[0;34m\u001b[0m\u001b[0;34m\u001b[0m\u001b[0m\n\u001b[0;32m-> 4391\u001b[0;31m             \u001b[0;32mraise\u001b[0m \u001b[0mValueError\u001b[0m\u001b[0;34m(\u001b[0m\u001b[0;34m\"x and y must be the same size\"\u001b[0m\u001b[0;34m)\u001b[0m\u001b[0;34m\u001b[0m\u001b[0;34m\u001b[0m\u001b[0m\n\u001b[0m\u001b[1;32m   4392\u001b[0m \u001b[0;34m\u001b[0m\u001b[0m\n\u001b[1;32m   4393\u001b[0m         \u001b[0;32mif\u001b[0m \u001b[0ms\u001b[0m \u001b[0;32mis\u001b[0m \u001b[0;32mNone\u001b[0m\u001b[0;34m:\u001b[0m\u001b[0;34m\u001b[0m\u001b[0;34m\u001b[0m\u001b[0m\n",
            "\u001b[0;31mValueError\u001b[0m: x and y must be the same size"
          ]
        },
        {
          "output_type": "display_data",
          "data": {
            "image/png": "[encoded data removed]",
            "text/plain": [
              "<Figure size 432x288 with 1 Axes>"
            ]
          },
          "metadata": {
            "tags": [],
            "needs_background": "light"
          }
        }
      ]
    },
    {
      "cell_type": "code",
      "metadata": {
        "id": "MoyZsJxcbyu3",
        "colab_type": "code",
        "colab": {
          "base_uri": "https://localhost:8080/",
          "height": 283
        },
        "outputId": "ab4d7d0e-7ad2-4008-d6a5-8f604bf250d6"
      },
      "source": [
        "train_nonmeme=[]\n",
        "for i in range(len(X)):\n",
        "    train_nonmeme.append(train_non_image[i]+train_non_test[i]+[1])\n",
        "print(len(train_nonmeme[0]))\n",
        "concat_nonmeme=pd.DataFrame(train_nonmeme)\n",
        "print(concat_nonmeme)\n",
        "concat_nonmeme.to_csv('/content/gdrive/My Drive/final_nonmeme_32_features.csv')"
      ],
      "execution_count": null,
      "outputs": [
        {
          "output_type": "stream",
          "text": [
            "33\n",
            "            0         1         2         3   ...        29        30        31  32\n",
            "0     3.382202  0.164802 -0.023359 -0.021057  ...  0.125733  0.032244  0.004942   1\n",
            "1     3.334455 -0.001338 -0.164611  0.035808  ...  0.002422 -0.013640 -0.032918   1\n",
            "2     3.424618 -0.043970 -0.023329  0.006938  ...  0.008674 -0.025723  0.012216   1\n",
            "3     3.368570 -0.100984 -0.026111  0.032650  ... -0.096089 -0.007095  0.024014   1\n",
            "4     3.443247 -0.061383 -0.012902  0.026025  ... -0.014866 -0.018653  0.008305   1\n",
            "...        ...       ...       ...       ...  ...       ...       ...       ...  ..\n",
            "5595  3.343817 -0.006654 -0.107254  0.009594  ...  0.088664  0.042437 -0.019256   1\n",
            "5596  3.471431  0.090182 -0.115745 -0.032687  ... -0.040140  0.025015  0.015296   1\n",
            "5597  3.339857 -0.073875  0.033471  0.099911  ...  0.046799  0.042797  0.012703   1\n",
            "5598  3.374287 -0.003136 -0.039975  0.065488  ...  0.064437  0.013036 -0.069511   1\n",
            "5599  3.320601  0.048414  0.031073  0.036534  ...  0.012131 -0.012932  0.007013   1\n",
            "\n",
            "[5600 rows x 33 columns]\n"
          ],
          "name": "stdout"
        }
      ]
    },
    {
      "cell_type": "code",
      "metadata": {
        "id": "uT1KKhWqdTmI",
        "colab_type": "code",
        "colab": {
          "base_uri": "https://localhost:8080/",
          "height": 283
        },
        "outputId": "60755ee0-55d9-434e-f458-09664d4b0b3f"
      },
      "source": [
        "train_meme=[]\n",
        "for i in range(len(A)):\n",
        "    train_meme.append(train_image[i]+train_test[i]+[0])\n",
        "print(len(train_meme[0]))\n",
        "concat_meme=pd.DataFrame(train_meme)\n",
        "print(concat_meme)\n",
        "concat_meme.to_csv('/content/gdrive/My Drive/final_meme_32_features.csv')"
      ],
      "execution_count": null,
      "outputs": [
        {
          "output_type": "stream",
          "text": [
            "33\n",
            "            0         1         2         3   ...        29        30        31  32\n",
            "0     3.446573 -0.029711 -0.095964  0.030890  ... -0.056686  0.009595 -0.007598   0\n",
            "1     3.399318  0.024021 -0.072289  0.053121  ...  0.020187  0.028733  0.024232   0\n",
            "2     3.256192 -0.076875 -0.062037  0.030729  ...  0.048853 -0.000370  0.009511   0\n",
            "3     3.429795  0.060433 -0.061667 -0.014898  ... -0.007232 -0.002848  0.054739   0\n",
            "4     3.330000 -0.106380  0.032233  0.024956  ...  0.027433 -0.018813  0.051240   0\n",
            "...        ...       ...       ...       ...  ...       ...       ...       ...  ..\n",
            "5595  3.418884 -0.063806 -0.175522  0.012342  ... -0.068743 -0.064919  0.008745   0\n",
            "5596  3.366713 -0.034848 -0.037755  0.017883  ...  0.034093  0.037916 -0.049779   0\n",
            "5597  3.390878 -0.070009 -0.036521  0.049243  ...  0.011958 -0.017044 -0.025351   0\n",
            "5598  3.375759 -0.095040 -0.055097 -0.050089  ...  0.031081 -0.037714 -0.036251   0\n",
            "5599  3.412616  0.000927 -0.126163  0.005940  ...  0.061275  0.023265 -0.036170   0\n",
            "\n",
            "[5600 rows x 33 columns]\n"
          ],
          "name": "stdout"
        }
      ]
    },
    {
      "cell_type": "code",
      "metadata": {
        "id": "eB3I1jDfdzFW",
        "colab_type": "code",
        "colab": {
          "base_uri": "https://localhost:8080/",
          "height": 265
        },
        "outputId": "fbb93791-a0a6-4bfa-890e-255c39a82b77"
      },
      "source": [
        "import pandas as pd\n",
        "\n",
        "# filenames\n",
        "all_filenames = [\"/content/gdrive/My Drive/final_nonmeme_32_features.csv\", \"/content/gdrive/My Drive/final_meme_32_features.csv\"]\n",
        "\n",
        "#combine all files in the list\n",
        "combined_csv = pd.concat([pd.read_csv(f) for f in all_filenames ])\n",
        "#export to csv\n",
        "print(combined_csv)\n",
        "combined_csv.to_csv( \"/content/gdrive/My Drive/final_32_features.csv\", index=False, encoding='utf-8-sig')"
      ],
      "execution_count": null,
      "outputs": [
        {
          "output_type": "stream",
          "text": [
            "      Unnamed: 0         0         1  ...        30        31  32\n",
            "0              0  3.382202  0.164802  ...  0.032244  0.004942   1\n",
            "1              1  3.334455 -0.001338  ... -0.013640 -0.032918   1\n",
            "2              2  3.424618 -0.043970  ... -0.025723  0.012216   1\n",
            "3              3  3.368570 -0.100984  ... -0.007095  0.024014   1\n",
            "4              4  3.443247 -0.061383  ... -0.018653  0.008305   1\n",
            "...          ...       ...       ...  ...       ...       ...  ..\n",
            "5595        5595  3.418884 -0.063806  ... -0.064919  0.008745   0\n",
            "5596        5596  3.366713 -0.034848  ...  0.037916 -0.049779   0\n",
            "5597        5597  3.390878 -0.070009  ... -0.017044 -0.025351   0\n",
            "5598        5598  3.375759 -0.095040  ... -0.037714 -0.036251   0\n",
            "5599        5599  3.412616  0.000927  ...  0.023265 -0.036170   0\n",
            "\n",
            "[11200 rows x 34 columns]\n"
          ],
          "name": "stdout"
        }
      ]
    },
    {
      "cell_type": "code",
      "metadata": {
        "id": "N7XEU03IeP-s",
        "colab_type": "code",
        "colab": {
          "base_uri": "https://localhost:8080/",
          "height": 283
        },
        "outputId": "f5e6b5e4-5baf-45df-83c5-a226c6a59c0f"
      },
      "source": [
        "test_nonmeme=[]\n",
        "for i in range(len(X1)):\n",
        "    test_nonmeme.append(test_non_image[i]+test_non_test[i]+[1])\n",
        "print(len(test_nonmeme[0]))\n",
        "concat_test_nonmeme=pd.DataFrame(test_nonmeme)\n",
        "print(concat_test_nonmeme)\n",
        "concat_test_nonmeme.to_csv('/content/gdrive/My Drive/final_test_nonmeme_32_features.csv')"
      ],
      "execution_count": null,
      "outputs": [
        {
          "output_type": "stream",
          "text": [
            "33\n",
            "            0         1         2         3   ...        29        30        31  32\n",
            "0     3.376324  0.023877  0.008636 -0.118002  ... -0.005875 -0.029328  0.024238   1\n",
            "1     3.378648  0.092708  0.034514 -0.132042  ...  0.077323 -0.011266 -0.029495   1\n",
            "2     3.312377  0.046551  0.025111  0.038151  ... -0.012071 -0.017854 -0.017136   1\n",
            "3     3.446462 -0.048275  0.015613 -0.036086  ...  0.040240  0.017157 -0.055975   1\n",
            "4     3.371677  0.160523 -0.022172  0.007097  ...  0.001045  0.024671  0.003676   1\n",
            "...        ...       ...       ...       ...  ...       ...       ...       ...  ..\n",
            "1395  3.409582  0.020819  0.011716 -0.134162  ...  0.048685  0.005326  0.042045   1\n",
            "1396  3.417527  0.101637  0.016900 -0.036153  ...  0.035293  0.063024  0.000672   1\n",
            "1397  3.400302 -0.078249  0.102467 -0.018734  ...  0.029198  0.043476  0.005830   1\n",
            "1398  3.386198  0.052782 -0.004124 -0.040765  ...  0.005040  0.009383  0.009341   1\n",
            "1399  3.384933 -0.039768  0.014896  0.023358  ... -0.007416  0.037526  0.028794   1\n",
            "\n",
            "[1400 rows x 33 columns]\n"
          ],
          "name": "stdout"
        }
      ]
    },
    {
      "cell_type": "code",
      "metadata": {
        "id": "MmWZuFCdeszz",
        "colab_type": "code",
        "colab": {
          "base_uri": "https://localhost:8080/",
          "height": 283
        },
        "outputId": "47709a36-2d15-4646-a2d1-fd2d29033133"
      },
      "source": [
        "test_meme=[]\n",
        "for i in range(len(A1)):\n",
        "    test_meme.append(test_image[i]+test_test[i]+[0])\n",
        "print(len(test_meme[0]))\n",
        "concat_test_meme=pd.DataFrame(test_meme)\n",
        "print(concat_test_meme)\n",
        "concat_test_meme.to_csv('/content/gdrive/My Drive/final_test_meme_32_features.csv')"
      ],
      "execution_count": null,
      "outputs": [
        {
          "output_type": "stream",
          "text": [
            "33\n",
            "            0         1         2         3   ...        29        30        31  32\n",
            "0     3.380127 -0.004556 -0.122219  0.045421  ... -0.029694 -0.026642  0.022321   0\n",
            "1     3.324387  0.016385  0.005678 -0.021813  ... -0.025849 -0.024386  0.039875   0\n",
            "2     3.381320  0.022658 -0.010115  0.076342  ...  0.018067  0.061325 -0.005022   0\n",
            "3     3.268990  0.019857  0.017799 -0.011147  ...  0.006877 -0.077947  0.040717   0\n",
            "4     3.145116 -0.050269  0.101825  0.005228  ... -0.082654 -0.023033  0.017263   0\n",
            "...        ...       ...       ...       ...  ...       ...       ...       ...  ..\n",
            "1372  3.293207  0.010986 -0.034721  0.129227  ... -0.014665 -0.000946 -0.053880   0\n",
            "1373  3.428184  0.050343 -0.019187  0.010873  ... -0.037330  0.032031  0.059316   0\n",
            "1374  3.491758 -0.097213 -0.109161  0.028048  ...  0.018476 -0.003105  0.021632   0\n",
            "1375  3.347739 -0.076608 -0.063240  0.082901  ...  0.025748  0.001598 -0.019281   0\n",
            "1376  3.347973  0.030965 -0.048544  0.125899  ... -0.063715 -0.005823 -0.005419   0\n",
            "\n",
            "[1377 rows x 33 columns]\n"
          ],
          "name": "stdout"
        }
      ]
    },
    {
      "cell_type": "code",
      "metadata": {
        "id": "Sfa0LLr-fKPC",
        "colab_type": "code",
        "colab": {
          "base_uri": "https://localhost:8080/",
          "height": 265
        },
        "outputId": "abf92ec7-522a-48fb-be93-b385ac97a493"
      },
      "source": [
        "import pandas as pd\n",
        "\n",
        "# filenames\n",
        "all_filenames = [\"/content/gdrive/My Drive/final_test_nonmeme_32_features.csv\", \"/content/gdrive/My Drive/final_test_meme_32_features.csv\"]\n",
        "\n",
        "#combine all files in the list\n",
        "combined_csv1 = pd.concat([pd.read_csv(f) for f in all_filenames ])\n",
        "#export to csv\n",
        "print(combined_csv1)\n",
        "combined_csv1.to_csv( \"/content/gdrive/My Drive/final_test_32_features.csv\", index=False, encoding='utf-8-sig')"
      ],
      "execution_count": null,
      "outputs": [
        {
          "output_type": "stream",
          "text": [
            "      Unnamed: 0         0         1  ...        30        31  32\n",
            "0              0  3.376324  0.023877  ... -0.029328  0.024238   1\n",
            "1              1  3.378648  0.092708  ... -0.011266 -0.029495   1\n",
            "2              2  3.312377  0.046551  ... -0.017854 -0.017136   1\n",
            "3              3  3.446462 -0.048275  ...  0.017157 -0.055975   1\n",
            "4              4  3.371677  0.160523  ...  0.024671  0.003676   1\n",
            "...          ...       ...       ...  ...       ...       ...  ..\n",
            "1372        1372  3.293207  0.010986  ... -0.000946 -0.053880   0\n",
            "1373        1373  3.428184  0.050343  ...  0.032031  0.059316   0\n",
            "1374        1374  3.491758 -0.097213  ... -0.003105  0.021632   0\n",
            "1375        1375  3.347739 -0.076608  ...  0.001598 -0.019281   0\n",
            "1376        1376  3.347973  0.030965  ... -0.005823 -0.005419   0\n",
            "\n",
            "[2777 rows x 34 columns]\n"
          ],
          "name": "stdout"
        }
      ]
    },
    {
      "cell_type": "code",
      "metadata": {
        "id": "WRNBN30lakWq",
        "colab_type": "code",
        "colab": {}
      },
      "source": [
        "from sklearn.ensemble import RandomForestClassifier"
      ],
      "execution_count": null,
      "outputs": []
    },
    {
      "cell_type": "code",
      "metadata": {
        "id": "SzG2dCVJbOTa",
        "colab_type": "code",
        "colab": {}
      },
      "source": [
        "model_random = RandomForestClassifier(n_estimators = 10, random_state = 30)"
      ],
      "execution_count": null,
      "outputs": []
    },
    {
      "cell_type": "code",
      "metadata": {
        "id": "jnzhy3YFbTwv",
        "colab_type": "code",
        "colab": {
          "base_uri": "https://localhost:8080/",
          "height": 514
        },
        "outputId": "d16c4a16-7762-45e2-d86e-ca7d9393ea99"
      },
      "source": [
        "from sklearn.utils import shuffle\n",
        "\n",
        "dataset = pd.read_csv(\"/content/gdrive/My Drive/final_32_features.csv\")\n",
        "df = shuffle(dataset)\n",
        "del dataset[\"Unnamed: 0\"]\n",
        "del df[\"Unnamed: 0\"]\n",
        "print(dataset)\n",
        "print(df)"
      ],
      "execution_count": null,
      "outputs": [
        {
          "output_type": "stream",
          "text": [
            "              0         1         2         3  ...        29        30        31  32\n",
            "0      3.382202  0.164802 -0.023359 -0.021057  ...  0.125733  0.032244  0.004942   1\n",
            "1      3.334455 -0.001338 -0.164611  0.035808  ...  0.002422 -0.013640 -0.032918   1\n",
            "2      3.424618 -0.043970 -0.023329  0.006938  ...  0.008674 -0.025723  0.012216   1\n",
            "3      3.368570 -0.100984 -0.026111  0.032650  ... -0.096089 -0.007095  0.024014   1\n",
            "4      3.443247 -0.061383 -0.012902  0.026025  ... -0.014866 -0.018653  0.008305   1\n",
            "...         ...       ...       ...       ...  ...       ...       ...       ...  ..\n",
            "11195  3.418884 -0.063806 -0.175522  0.012342  ... -0.068743 -0.064919  0.008745   0\n",
            "11196  3.366713 -0.034848 -0.037755  0.017883  ...  0.034093  0.037916 -0.049779   0\n",
            "11197  3.390878 -0.070009 -0.036521  0.049243  ...  0.011958 -0.017044 -0.025351   0\n",
            "11198  3.375759 -0.095040 -0.055097 -0.050089  ...  0.031081 -0.037714 -0.036251   0\n",
            "11199  3.412616  0.000927 -0.126163  0.005940  ...  0.061275  0.023265 -0.036170   0\n",
            "\n",
            "[11200 rows x 33 columns]\n",
            "              0         1         2         3  ...        29        30        31  32\n",
            "2472   3.364972 -0.035595  0.050363 -0.051121  ...  0.022755 -0.030423  0.024670   1\n",
            "4631   3.362460 -0.028960  0.099230  0.103991  ...  0.039285  0.044780  0.009999   1\n",
            "6247   3.393926  0.018606 -0.047670  0.168175  ...  0.068123 -0.001128 -0.008359   0\n",
            "1440   3.388426 -0.032695 -0.069793  0.011796  ... -0.095241 -0.019436  0.029999   1\n",
            "750    3.317648 -0.023456  0.014162  0.040376  ...  0.072332  0.081883 -0.007020   1\n",
            "...         ...       ...       ...       ...  ...       ...       ...       ...  ..\n",
            "2661   3.392236  0.018861  0.042548 -0.049953  ... -0.041311  0.020123  0.038847   1\n",
            "3293   3.392111 -0.023108 -0.013703 -0.022633  ...  0.066151  0.022988 -0.014895   1\n",
            "9275   3.347850 -0.031626  0.029124  0.049271  ... -0.052706 -0.042131 -0.032189   0\n",
            "2949   3.420379 -0.045342 -0.073591 -0.001242  ...  0.020427 -0.016220 -0.036961   1\n",
            "11164  3.310303 -0.101169  0.051839  0.066635  ... -0.015945 -0.041606 -0.015653   0\n",
            "\n",
            "[11200 rows x 33 columns]\n"
          ],
          "name": "stdout"
        }
      ]
    },
    {
      "cell_type": "code",
      "metadata": {
        "id": "3hywFvXAgMDg",
        "colab_type": "code",
        "colab": {}
      },
      "source": [
        "y=df['32']\n",
        "x=df.drop('32',axis=1)"
      ],
      "execution_count": null,
      "outputs": []
    },
    {
      "cell_type": "code",
      "metadata": {
        "id": "Lh75P32YgA46",
        "colab_type": "code",
        "colab": {
          "base_uri": "https://localhost:8080/",
          "height": 158
        },
        "outputId": "80cb07de-9ef7-48d2-b0d9-fedffff9f3a2"
      },
      "source": [
        "model_random.fit(x, y)"
      ],
      "execution_count": null,
      "outputs": [
        {
          "output_type": "execute_result",
          "data": {
            "text/plain": [
              "RandomForestClassifier(bootstrap=True, ccp_alpha=0.0, class_weight=None,\n",
              "                       criterion='gini', max_depth=None, max_features='auto',\n",
              "                       max_leaf_nodes=None, max_samples=None,\n",
              "                       min_impurity_decrease=0.0, min_impurity_split=None,\n",
              "                       min_samples_leaf=1, min_samples_split=2,\n",
              "                       min_weight_fraction_leaf=0.0, n_estimators=10,\n",
              "                       n_jobs=None, oob_score=False, random_state=30, verbose=0,\n",
              "                       warm_start=False)"
            ]
          },
          "metadata": {
            "tags": []
          },
          "execution_count": 46
        }
      ]
    },
    {
      "cell_type": "code",
      "metadata": {
        "id": "DwqjAk0pga7q",
        "colab_type": "code",
        "colab": {
          "base_uri": "https://localhost:8080/",
          "height": 514
        },
        "outputId": "57b68c9d-a8b2-493f-d0ff-44944fe7ad59"
      },
      "source": [
        "\n",
        "dataset_test = pd.read_csv(\"/content/gdrive/My Drive/final_test_32_features.csv\")\n",
        "del dataset_test[\"Unnamed: 0\"]\n",
        "from sklearn.utils import shuffle\n",
        "df_test = shuffle(dataset_test)\n",
        "\n",
        "print(dataset_test)\n",
        "print(df_test)"
      ],
      "execution_count": null,
      "outputs": [
        {
          "output_type": "stream",
          "text": [
            "             0         1         2         3  ...        29        30        31  32\n",
            "0     3.376324  0.023877  0.008636 -0.118002  ... -0.005875 -0.029328  0.024238   1\n",
            "1     3.378648  0.092708  0.034514 -0.132042  ...  0.077323 -0.011266 -0.029495   1\n",
            "2     3.312377  0.046551  0.025111  0.038151  ... -0.012071 -0.017854 -0.017136   1\n",
            "3     3.446462 -0.048275  0.015613 -0.036086  ...  0.040240  0.017157 -0.055975   1\n",
            "4     3.371677  0.160523 -0.022172  0.007097  ...  0.001045  0.024671  0.003676   1\n",
            "...        ...       ...       ...       ...  ...       ...       ...       ...  ..\n",
            "2772  3.293207  0.010986 -0.034721  0.129227  ... -0.014665 -0.000946 -0.053880   0\n",
            "2773  3.428184  0.050343 -0.019187  0.010873  ... -0.037330  0.032031  0.059316   0\n",
            "2774  3.491758 -0.097213 -0.109161  0.028048  ...  0.018476 -0.003105  0.021632   0\n",
            "2775  3.347739 -0.076608 -0.063240  0.082901  ...  0.025748  0.001598 -0.019281   0\n",
            "2776  3.347973  0.030965 -0.048544  0.125899  ... -0.063715 -0.005823 -0.005419   0\n",
            "\n",
            "[2777 rows x 33 columns]\n",
            "             0         1         2         3  ...        29        30        31  32\n",
            "2728  3.261875 -0.030698 -0.079171  0.106999  ... -0.030380 -0.043445  0.000410   0\n",
            "2258  3.397422 -0.020884 -0.037617  0.085646  ... -0.025537  0.057102 -0.006547   0\n",
            "905   3.402806  0.145181  0.027621 -0.012986  ...  0.036078  0.006586  0.018104   1\n",
            "1930  3.374826 -0.051243  0.054734  0.088066  ... -0.001263  0.036859 -0.005938   0\n",
            "913   3.320011  0.036439  0.043160 -0.013344  ...  0.030431 -0.016172  0.074615   1\n",
            "...        ...       ...       ...       ...  ...       ...       ...       ...  ..\n",
            "1384  3.394039  0.016492  0.026481 -0.080347  ... -0.039023 -0.001326  0.051093   1\n",
            "2401  3.408815  0.007325  0.060721  0.063960  ... -0.012007 -0.013029 -0.008064   0\n",
            "1475  3.387873 -0.058795 -0.071349  0.071775  ... -0.030128  0.010824  0.009123   0\n",
            "2692  3.470344 -0.097468 -0.144446  0.020442  ...  0.052509  0.020405  0.012905   0\n",
            "1391  3.372283 -0.070676  0.040116  0.052496  ...  0.070554  0.091062 -0.040918   1\n",
            "\n",
            "[2777 rows x 33 columns]\n"
          ],
          "name": "stdout"
        }
      ]
    },
    {
      "cell_type": "code",
      "metadata": {
        "id": "0Ey_hkNegrqk",
        "colab_type": "code",
        "colab": {}
      },
      "source": [
        "y1=df_test['32']\n",
        "x1=df_test.drop('32',axis=1)"
      ],
      "execution_count": null,
      "outputs": []
    },
    {
      "cell_type": "code",
      "metadata": {
        "id": "cNZUnX_kg2mk",
        "colab_type": "code",
        "colab": {}
      },
      "source": [
        "prediction_test = model_random.predict(x1)\n"
      ],
      "execution_count": null,
      "outputs": []
    },
    {
      "cell_type": "code",
      "metadata": {
        "id": "g-L0nU0-g9bI",
        "colab_type": "code",
        "colab": {}
      },
      "source": [
        "from sklearn import metrics"
      ],
      "execution_count": null,
      "outputs": []
    },
    {
      "cell_type": "code",
      "metadata": {
        "id": "vsUUQ6mZhCWr",
        "colab_type": "code",
        "colab": {
          "base_uri": "https://localhost:8080/",
          "height": 34
        },
        "outputId": "61aab470-acaa-4d2f-dca0-8e96f281ddcd"
      },
      "source": [
        "\n",
        "print (\"Accuracy = \", metrics.accuracy_score(prediction_test, y1))"
      ],
      "execution_count": null,
      "outputs": [
        {
          "output_type": "stream",
          "text": [
            "Accuracy =  1.0\n"
          ],
          "name": "stdout"
        }
      ]
    },
    {
      "cell_type": "code",
      "metadata": {
        "id": "PhmE-uhrhIal",
        "colab_type": "code",
        "colab": {
          "base_uri": "https://localhost:8080/",
          "height": 34
        },
        "outputId": "55866c5f-d819-4953-905c-a5a6f64b812b"
      },
      "source": [
        "from sklearn.svm import SVC\n",
        "from sklearn.metrics import accuracy_score\n",
        "\n",
        "clf = SVC(kernel='linear')\n",
        "clf.fit(x,y)\n",
        "y_pred = clf.predict(x1)\n",
        "print(accuracy_score(y1,y_pred))"
      ],
      "execution_count": null,
      "outputs": [
        {
          "output_type": "stream",
          "text": [
            "1.0\n"
          ],
          "name": "stdout"
        }
      ]
    },
    {
      "cell_type": "code",
      "metadata": {
        "id": "P2VfzVZ3keAs",
        "colab_type": "code",
        "colab": {}
      },
      "source": [
        ""
      ],
      "execution_count": null,
      "outputs": []
    }
  ]
}