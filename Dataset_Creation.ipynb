{
  "nbformat": 4,
  "nbformat_minor": 0,
  "metadata": {
    "colab": {
      "name": "Dataset_Creation.ipynb",
      "provenance": [],
      "private_outputs": true,
      "collapsed_sections": []
    },
    "kernelspec": {
      "name": "python3",
      "display_name": "Python 3"
    },
    "accelerator": "TPU"
  },
  "cells": [
    {
      "cell_type": "code",
      "metadata": {
        "id": "757mIVez1abW",
        "colab_type": "code",
        "colab": {}
      },
      "source": [
        "from google.colab import drive\n",
        "drive.mount('/content/gdrive')"
      ],
      "execution_count": null,
      "outputs": []
    },
    {
      "cell_type": "code",
      "metadata": {
        "id": "DjZ9BVQqtkGV",
        "colab_type": "code",
        "colab": {}
      },
      "source": [
        "import os\n",
        "import glob\n",
        "from PIL import Image, ImageDraw, ImageFont\n",
        "import cv2\n",
        "img_dir = \"/content/gdrive/My Drive/dataset/flickr8k/Flickr_Data/Flickr_Data/Images\" \n",
        "data_path = os.path.join(img_dir,'*g')\n",
        "files = glob.glob(data_path)\n",
        "print(files)\n",
        "\n",
        "tokens=\"/content/gdrive/My Drive/dataset/flickr8k/Flickr_Data/Flickr_Data/Flickr_TextData/Flickr8k.token.txt\"\n",
        "file1 = open(tokens,\"r\") \n",
        "tokens_list=[]\n",
        "images_list=[]\n",
        "for i in file1:\n",
        "   tokens_list.append(i.split('#')[1][2:-2])\n",
        "   images_list.append(i.split('#')[0])\n",
        "print(tokens_list[0])\n",
        "print(images_list[0])\n",
        "images_list = list(dict.fromkeys(images_list))\n",
        "print(len(images_list))\n",
        "file1.close() \n"
      ],
      "execution_count": null,
      "outputs": []
    },
    {
      "cell_type": "code",
      "metadata": {
        "id": "6EWx1qKTWX7H",
        "colab_type": "code",
        "colab": {}
      },
      "source": [
        "tokens_nested_list=[]\n",
        "t=[]\n",
        "c=0\n",
        "for i in range(40455):\n",
        "  t.append(tokens_list[i])\n",
        "  c+=1\n",
        "  if c==5:\n",
        "    tokens_nested_list.append(t)\n",
        "    t=[]\n",
        "    c=0\n",
        "print(len(tokens_nested_list))"
      ],
      "execution_count": null,
      "outputs": []
    },
    {
      "cell_type": "code",
      "metadata": {
        "id": "W1KQjMblYskr",
        "colab_type": "code",
        "colab": {}
      },
      "source": [
        "res = dict(zip(images_list, tokens_nested_list))\n",
        "print(len(res))\n",
        "print(res.keys())\n",
        "dic={}\n",
        "dic[images_list[0]]=tokens_nested_list[0]\n"
      ],
      "execution_count": null,
      "outputs": []
    },
    {
      "cell_type": "code",
      "metadata": {
        "id": "URqhVaqSKLxY",
        "colab_type": "code",
        "colab": {}
      },
      "source": [
        "import numpy as np\n",
        "import textwrap\n",
        "str_to_append=\"/content/gdrive/My Drive/dataset/flickr8k/Flickr_Data/Flickr_Data/Images/\"\n",
        "import imageio\n",
        "import numpy as np\n",
        "from google.colab.patches import cv2_imshow\n",
        "import cv2\n",
        "\n",
        "def img_estim(file_name, thrshld,h1,h,w):\n",
        "    img = cv2.imread(file_name)  \n",
        "    crop_img = img[h1:h, 0:w]\n",
        "    # from matplotlib import pyplot as plt\n",
        "    # plt.imshow(crop_img)\n",
        "    # plt.show()\n",
        "    is_light = np.mean(crop_img) > thrshld\n",
        "    return 'light' if is_light else 'dark'\n",
        "z=1\n",
        "for i in list(res.keys())[600:4000]:\n",
        "    img = Image.open(str_to_append+str(i))\n",
        "    print(z)\n",
        "    z+=1\n",
        "    count=0;\n",
        "    for j in res[i]:\n",
        "          count=count+1\n",
        "      \n",
        "          img = Image.open(str_to_append+str(i))\n",
        "          w,h = img.size \n",
        "      \n",
        "          lines = textwrap.wrap(j, width=30)\n",
        "          y=10\n",
        "         \n",
        "         \n",
        "          font=ImageFont.truetype('/content/gdrive/My Drive/dataset/Roboto-Black.ttf',30)\n",
        "         \n",
        "          for line in lines:\n",
        "              width, height = font.getsize(line)\n",
        "              draw = ImageDraw.Draw(img)\n",
        "              theme_of_image=img_estim(str_to_append+str(i),127,(lines.index(line)+1)*30-20,10+(lines.index(line)+1)*30,w)\n",
        "              if theme_of_image=='dark':\n",
        "                 draw.text(((w-width)/2,y), line, font=font, fill=(255,255,0))\n",
        "              else:\n",
        "                draw.text(((w-width)/2,y), line, font=font, fill=(0,0,255))\n",
        "              y+= height\n",
        "              \n",
        "          # from matplotlib import pyplot as plt\n",
        "          # plt.imshow(img)\n",
        "          # plt.show()\n",
        "          img.save('/content/gdrive/My Drive/dataset/nonmeme/'+i+'#'+str(count)+'.png')"
      ],
      "execution_count": null,
      "outputs": []
    },
    {
      "cell_type": "code",
      "metadata": {
        "id": "xfFxFxJDs7GP",
        "colab_type": "code",
        "colab": {}
      },
      "source": [
        "\n",
        "\n",
        "\n",
        "\n"
      ],
      "execution_count": null,
      "outputs": []
    },
    {
      "cell_type": "code",
      "metadata": {
        "id": "RpQOXPmNkpZ_",
        "colab_type": "code",
        "colab": {}
      },
      "source": [
        ""
      ],
      "execution_count": null,
      "outputs": []
    },
    {
      "cell_type": "code",
      "metadata": {
        "id": "zcJaK18jfQ55",
        "colab_type": "code",
        "colab": {}
      },
      "source": [
        ""
      ],
      "execution_count": null,
      "outputs": []
    }
  ]
}